{
  "cells": [
    {
      "cell_type": "markdown",
      "metadata": {
        "id": "view-in-github",
        "colab_type": "text"
      },
      "source": [
        "<a href=\"https://colab.research.google.com/github/sisco1113/linear-regression-deep-learning-AI-algorithm/blob/main/Linear_Regression_(Deep_Learning_AI_Algorithm).ipynb\" target=\"_parent\"><img src=\"https://colab.research.google.com/assets/colab-badge.svg\" alt=\"Open In Colab\"/></a>"
      ]
    },
    {
      "cell_type": "code",
      "execution_count": null,
      "metadata": {
        "id": "oTUNTW8WI4x4"
      },
      "outputs": [],
      "source": [
        "from keras import layers, utils\n",
        "from keras.models import Sequential\n",
        "from keras.layers import Dense\n",
        "from keras.regularizers import l2\n",
        "\n",
        "import matplotlib.pyplot as plt\n",
        "import pandas as pd\n",
        "import numpy as np\n",
        "\n",
        "from sklearn.model_selection import train_test_split\n",
        "\n",
        "# Boston housing features\n",
        "columns = ['crim', 'zn', 'indus', 'chas', 'nox', 'rm', 'age', 'dis', 'rad', 'tax', 'ptratio', 'b', 'lstat', 'medv']\n",
        "boston_data = pd.read_csv(\"boston_housing.csv\", names=columns)\n"
      ],
      "id": "oTUNTW8WI4x4"
    },
    {
      "cell_type": "code",
      "execution_count": null,
      "id": "6166cd23",
      "metadata": {
        "id": "6166cd23",
        "colab": {
          "base_uri": "https://localhost:8080/"
        },
        "outputId": "f545845d-65d6-4355-e6fa-9fc3117cb62f"
      },
      "outputs": [
        {
          "output_type": "stream",
          "name": "stdout",
          "text": [
            "Dimension: (506, 14)\n",
            "Datatype:\n",
            " crim       float64\n",
            "zn         float64\n",
            "indus      float64\n",
            "chas         int64\n",
            "nox        float64\n",
            "rm         float64\n",
            "age        float64\n",
            "dis        float64\n",
            "rad          int64\n",
            "tax          int64\n",
            "ptratio    float64\n",
            "b          float64\n",
            "lstat      float64\n",
            "medv       float64\n",
            "dtype: object\n",
            "First 5 rows:\n",
            " <bound method NDFrame.head of         crim    zn  indus  chas    nox     rm   age     dis  rad  tax  \\\n",
            "0    0.00632  18.0   2.31     0  0.538  6.575  65.2  4.0900    1  296   \n",
            "1    0.02731   0.0   7.07     0  0.469  6.421  78.9  4.9671    2  242   \n",
            "2    0.02729   0.0   7.07     0  0.469  7.185  61.1  4.9671    2  242   \n",
            "3    0.03237   0.0   2.18     0  0.458  6.998  45.8  6.0622    3  222   \n",
            "4    0.06905   0.0   2.18     0  0.458  7.147  54.2  6.0622    3  222   \n",
            "..       ...   ...    ...   ...    ...    ...   ...     ...  ...  ...   \n",
            "501  0.06263   0.0  11.93     0  0.573  6.593  69.1  2.4786    1  273   \n",
            "502  0.04527   0.0  11.93     0  0.573  6.120  76.7  2.2875    1  273   \n",
            "503  0.06076   0.0  11.93     0  0.573  6.976  91.0  2.1675    1  273   \n",
            "504  0.10959   0.0  11.93     0  0.573  6.794  89.3  2.3889    1  273   \n",
            "505  0.04741   0.0  11.93     0  0.573  6.030  80.8  2.5050    1  273   \n",
            "\n",
            "     ptratio       b  lstat  medv  \n",
            "0       15.3  396.90   4.98  24.0  \n",
            "1       17.8  396.90   9.14  21.6  \n",
            "2       17.8  392.83   4.03  34.7  \n",
            "3       18.7  394.63   2.94  33.4  \n",
            "4       18.7  396.90   5.33  36.2  \n",
            "..       ...     ...    ...   ...  \n",
            "501     21.0  391.99   9.67  22.4  \n",
            "502     21.0  396.90   9.08  20.6  \n",
            "503     21.0  396.90   5.64  23.9  \n",
            "504     21.0  393.45   6.48  22.0  \n",
            "505     21.0  396.90   7.88  11.9  \n",
            "\n",
            "[506 rows x 14 columns]>\n"
          ]
        }
      ],
      "source": [
        "# show dimension, datatype, and first 5 rows of boston_data.\n",
        "# use shape, dtypes, head\n",
        "print(\"Dimension:\", boston_data.shape)\n",
        "print(\"Datatype:\\n\", boston_data.dtypes)\n",
        "print(\"First 5 rows:\\n\", boston_data.head)"
      ]
    },
    {
      "cell_type": "code",
      "execution_count": null,
      "id": "c31386a5",
      "metadata": {
        "id": "c31386a5",
        "colab": {
          "base_uri": "https://localhost:8080/"
        },
        "outputId": "28ff4bd3-a512-4fd2-e721-7f5abc518774"
      },
      "outputs": [
        {
          "output_type": "stream",
          "name": "stdout",
          "text": [
            "Correlation between attributes:              crim        zn     indus      chas       nox        rm       age  \\\n",
            "crim     1.000000 -0.200469  0.406583 -0.055892  0.420972 -0.219247  0.352734   \n",
            "zn      -0.200469  1.000000 -0.533828 -0.042697 -0.516604  0.311991 -0.569537   \n",
            "indus    0.406583 -0.533828  1.000000  0.062938  0.763651 -0.391676  0.644779   \n",
            "chas    -0.055892 -0.042697  0.062938  1.000000  0.091203  0.091251  0.086518   \n",
            "nox      0.420972 -0.516604  0.763651  0.091203  1.000000 -0.302188  0.731470   \n",
            "rm      -0.219247  0.311991 -0.391676  0.091251 -0.302188  1.000000 -0.240265   \n",
            "age      0.352734 -0.569537  0.644779  0.086518  0.731470 -0.240265  1.000000   \n",
            "dis     -0.379670  0.664408 -0.708027 -0.099176 -0.769230  0.205246 -0.747881   \n",
            "rad      0.625505 -0.311948  0.595129 -0.007368  0.611441 -0.209847  0.456022   \n",
            "tax      0.582764 -0.314563  0.720760 -0.035587  0.668023 -0.292048  0.506456   \n",
            "ptratio  0.289946 -0.391679  0.383248 -0.121515  0.188933 -0.355501  0.261515   \n",
            "b       -0.385064  0.175520 -0.356977  0.048788 -0.380051  0.128069 -0.273534   \n",
            "lstat    0.455621 -0.412995  0.603800 -0.053929  0.590879 -0.613808  0.602339   \n",
            "medv    -0.388305  0.360445 -0.483725  0.175260 -0.427321  0.695360 -0.376955   \n",
            "\n",
            "              dis       rad       tax   ptratio         b     lstat      medv  \n",
            "crim    -0.379670  0.625505  0.582764  0.289946 -0.385064  0.455621 -0.388305  \n",
            "zn       0.664408 -0.311948 -0.314563 -0.391679  0.175520 -0.412995  0.360445  \n",
            "indus   -0.708027  0.595129  0.720760  0.383248 -0.356977  0.603800 -0.483725  \n",
            "chas    -0.099176 -0.007368 -0.035587 -0.121515  0.048788 -0.053929  0.175260  \n",
            "nox     -0.769230  0.611441  0.668023  0.188933 -0.380051  0.590879 -0.427321  \n",
            "rm       0.205246 -0.209847 -0.292048 -0.355501  0.128069 -0.613808  0.695360  \n",
            "age     -0.747881  0.456022  0.506456  0.261515 -0.273534  0.602339 -0.376955  \n",
            "dis      1.000000 -0.494588 -0.534432 -0.232471  0.291512 -0.496996  0.249929  \n",
            "rad     -0.494588  1.000000  0.910228  0.464741 -0.444413  0.488676 -0.381626  \n",
            "tax     -0.534432  0.910228  1.000000  0.460853 -0.441808  0.543993 -0.468536  \n",
            "ptratio -0.232471  0.464741  0.460853  1.000000 -0.177383  0.374044 -0.507787  \n",
            "b        0.291512 -0.444413 -0.441808 -0.177383  1.000000 -0.366087  0.333461  \n",
            "lstat   -0.496996  0.488676  0.543993  0.374044 -0.366087  1.000000 -0.737663  \n",
            "medv     0.249929 -0.381626 -0.468536 -0.507787  0.333461 -0.737663  1.000000  \n"
          ]
        }
      ],
      "source": [
        "# show correlation between attributes.\n",
        "# use corr with pearson\n",
        "print(\"Correlation between attributes:\", boston_data.corr(method='pearson'))\n"
      ]
    },
    {
      "cell_type": "code",
      "execution_count": null,
      "id": "7659bc9b",
      "metadata": {
        "id": "7659bc9b",
        "colab": {
          "base_uri": "https://localhost:8080/"
        },
        "outputId": "43f0c1bc-02ed-4acd-d6b5-dbf79a7c8f22"
      },
      "outputs": [
        {
          "output_type": "stream",
          "name": "stdout",
          "text": [
            "             crim          zn       indus        chas         nox          rm  \\\n",
            "count  506.000000  506.000000  506.000000  506.000000  506.000000  506.000000   \n",
            "mean     3.613524   11.363636   11.136779    0.069170    0.554695    6.284634   \n",
            "std      8.601545   23.322453    6.860353    0.253994    0.115878    0.702617   \n",
            "min      0.006320    0.000000    0.460000    0.000000    0.385000    3.561000   \n",
            "25%      0.082045    0.000000    5.190000    0.000000    0.449000    5.885500   \n",
            "50%      0.256510    0.000000    9.690000    0.000000    0.538000    6.208500   \n",
            "75%      3.677083   12.500000   18.100000    0.000000    0.624000    6.623500   \n",
            "max     88.976200  100.000000   27.740000    1.000000    0.871000    8.780000   \n",
            "\n",
            "              age         dis         rad         tax     ptratio           b  \\\n",
            "count  506.000000  506.000000  506.000000  506.000000  506.000000  506.000000   \n",
            "mean    68.574901    3.795043    9.549407  408.237154   18.455534  356.674032   \n",
            "std     28.148861    2.105710    8.707259  168.537116    2.164946   91.294864   \n",
            "min      2.900000    1.129600    1.000000  187.000000   12.600000    0.320000   \n",
            "25%     45.025000    2.100175    4.000000  279.000000   17.400000  375.377500   \n",
            "50%     77.500000    3.207450    5.000000  330.000000   19.050000  391.440000   \n",
            "75%     94.075000    5.188425   24.000000  666.000000   20.200000  396.225000   \n",
            "max    100.000000   12.126500   24.000000  711.000000   22.000000  396.900000   \n",
            "\n",
            "            lstat        medv  \n",
            "count  506.000000  506.000000  \n",
            "mean    12.653063   22.532806  \n",
            "std      7.141062    9.197104  \n",
            "min      1.730000    5.000000  \n",
            "25%      6.950000   17.025000  \n",
            "50%     11.360000   21.200000  \n",
            "75%     16.955000   25.000000  \n",
            "max     37.970000   50.000000  \n"
          ]
        }
      ],
      "source": [
        "# for each attribute, show mean, count, std, min, max, etc\n",
        "# use describe\n",
        "print(boston_data.describe())\n"
      ]
    },
    {
      "cell_type": "code",
      "execution_count": null,
      "id": "1e652afe",
      "metadata": {
        "id": "1e652afe",
        "colab": {
          "base_uri": "https://localhost:8080/",
          "height": 449
        },
        "outputId": "16a21b23-7fc2-4c88-ef55-7da7db4f6c51"
      },
      "outputs": [
        {
          "output_type": "display_data",
          "data": {
            "text/plain": [
              "<Figure size 640x480 with 1 Axes>"
            ],
            "image/png": "[encoded data removed]"
          },
          "metadata": {}
        }
      ],
      "source": [
        "# Visualization\n",
        "# We want to show the relationship between ‘rm’ attribute and ‘medv’(target) attribute\n",
        "\n",
        "# define x_val and y_val from boston_data\n",
        "x_val= boston_data['rm']\n",
        "y_val= boston_data['medv']\n",
        "\n",
        "plt.scatter(x_val, y_val)\n",
        "plt.xlabel('rm')\n",
        "plt.ylabel('medv')\n",
        "plt.show()\n"
      ]
    },
    {
      "cell_type": "code",
      "execution_count": null,
      "id": "10c1ce83",
      "metadata": {
        "id": "10c1ce83",
        "colab": {
          "base_uri": "https://localhost:8080/",
          "height": 449
        },
        "outputId": "734a8549-50a8-4984-eb82-14e5ca18e6e9"
      },
      "outputs": [
        {
          "output_type": "display_data",
          "data": {
            "text/plain": [
              "<Figure size 640x480 with 1 Axes>"
            ],
            "image/png": "[encoded data removed]"
          },
          "metadata": {}
        }
      ],
      "source": [
        "# choose another attribute and draw similar graph as above\n",
        "\n",
        "x_val= boston_data['indus']\n",
        "y_val= boston_data['tax']\n",
        "\n",
        "plt.scatter(x_val, y_val)\n",
        "plt.xlabel('indus')\n",
        "plt.ylabel('tax')\n",
        "plt.show()\n"
      ]
    },
    {
      "cell_type": "code",
      "execution_count": null,
      "id": "b9149aad",
      "metadata": {
        "id": "b9149aad",
        "colab": {
          "base_uri": "https://localhost:8080/"
        },
        "outputId": "71c40dc0-2d8e-4f17-b713-ead316774a5f"
      },
      "outputs": [
        {
          "output_type": "stream",
          "name": "stdout",
          "text": [
            "X_train:\n",
            "          crim    zn  indus  chas    nox     rm   age     dis  rad  tax  \\\n",
            "478  10.23300   0.0  18.10     0  0.614  6.185  96.7  2.1705   24  666   \n",
            "26    0.67191   0.0   8.14     0  0.538  5.813  90.3  4.6820    4  307   \n",
            "7     0.14455  12.5   7.87     0  0.524  6.172  96.1  5.9505    5  311   \n",
            "492   0.11132   0.0  27.74     0  0.609  5.983  83.5  2.1099    4  711   \n",
            "108   0.12802   0.0   8.56     0  0.520  6.474  97.1  2.4329    5  384   \n",
            "\n",
            "     ptratio       b  lstat  \n",
            "478     20.2  379.70  18.03  \n",
            "26      21.0  376.88  14.81  \n",
            "7       15.2  396.90  19.15  \n",
            "492     20.1  396.90  13.35  \n",
            "108     20.9  395.24  12.27  \n",
            "\n",
            "X_test:\n",
            "         crim    zn  indus  chas    nox     rm   age     dis  rad  tax  \\\n",
            "173  0.09178   0.0   4.05     0  0.510  6.416  84.1  2.6463    5  296   \n",
            "274  0.05644  40.0   6.41     1  0.447  6.758  32.9  4.0776    4  254   \n",
            "491  0.10574   0.0  27.74     0  0.609  5.983  98.8  1.8681    4  711   \n",
            "72   0.09164   0.0  10.81     0  0.413  6.065   7.8  5.2873    4  305   \n",
            "452  5.09017   0.0  18.10     0  0.713  6.297  91.8  2.3682   24  666   \n",
            "\n",
            "     ptratio       b  lstat  \n",
            "173     16.6  395.50   9.04  \n",
            "274     17.6  396.90   3.53  \n",
            "491     20.1  390.11  18.07  \n",
            "72      19.2  390.91   5.52  \n",
            "452     20.2  385.09  17.27  \n",
            "\n",
            "Y_train:\n",
            " 478    14.6\n",
            "26     16.6\n",
            "7      27.1\n",
            "492    20.1\n",
            "108    19.8\n",
            "Name: medv, dtype: float64\n",
            "\n",
            "Y_test:\n",
            " 173    23.6\n",
            "274    32.4\n",
            "491    13.6\n",
            "72     22.8\n",
            "452    16.1\n",
            "Name: medv, dtype: float64\n"
          ]
        }
      ],
      "source": [
        "# With .pop() command, the associated columns are extracted.\n",
        "# select input attributes wo target attributes\n",
        "Y = boston_data.pop('medv')\n",
        "# select target attribute\n",
        "X = boston_data\n",
        "\n",
        "# split X, Y into X_train, X_test, Y_train, Y_test\n",
        "X_train, X_test, Y_train, Y_test = train_test_split(X, Y, test_size=0.33, random_state=42)\n",
        "\n",
        "#  Show that split is correctly done\n",
        "# you can show the shape of each data & first 5 rows of each data\n",
        "print(\"X_train:\\n\", X_train.head())\n",
        "print(\"\\nX_test:\\n\", X_test.head())\n",
        "print(\"\\nY_train:\\n\", Y_train.head())\n",
        "print(\"\\nY_test:\\n\", Y_test.head())"
      ]
    },
    {
      "cell_type": "code",
      "execution_count": null,
      "id": "401552ad",
      "metadata": {
        "id": "401552ad"
      },
      "outputs": [],
      "source": [
        "# MSE linear regression model in Keras\n",
        "# We don't specify anything for activation -> no activation is applied\n",
        "# (ie. \"linear\" activation: a(x) = x) model = Sequential()\n",
        "model = Sequential()\n",
        "model.add(Dense(1, input_dim=13))\n",
        "\n",
        "# you can change optimizer or loss function, if you want\n",
        "# use adam as an optimizer and mse(mean squared error) as the error function\n",
        "# fill the red blanks below (2 pts) model.compile(optimizer='OOO', loss='OOO')\n",
        "model.compile(optimizer='adam', loss='mean_squared_error')\n"
      ]
    },
    {
      "cell_type": "code",
      "execution_count": null,
      "id": "088a7717",
      "metadata": {
        "id": "088a7717",
        "colab": {
          "base_uri": "https://localhost:8080/"
        },
        "outputId": "c9b9336a-3248-4b15-ee8c-f7f76380a3a0"
      },
      "outputs": [
        {
          "output_type": "stream",
          "name": "stdout",
          "text": [
            "Epoch 1/10\n",
            "22/22 [==============================] - 1s 13ms/step - loss: 78287.5469 - val_loss: 69732.1953\n",
            "Epoch 2/10\n",
            "22/22 [==============================] - 0s 4ms/step - loss: 67585.7734 - val_loss: 59905.2812\n",
            "Epoch 3/10\n",
            "22/22 [==============================] - 0s 4ms/step - loss: 57950.9023 - val_loss: 51140.2344\n",
            "Epoch 4/10\n",
            "22/22 [==============================] - 0s 4ms/step - loss: 49346.8867 - val_loss: 43374.7656\n",
            "Epoch 5/10\n",
            "22/22 [==============================] - 0s 4ms/step - loss: 41865.8555 - val_loss: 36539.1016\n",
            "Epoch 6/10\n",
            "22/22 [==============================] - 0s 4ms/step - loss: 35170.2148 - val_loss: 30636.7969\n",
            "Epoch 7/10\n",
            "22/22 [==============================] - 0s 3ms/step - loss: 29484.5488 - val_loss: 25460.3945\n",
            "Epoch 8/10\n",
            "22/22 [==============================] - 0s 4ms/step - loss: 24517.2383 - val_loss: 21127.2148\n",
            "Epoch 9/10\n",
            "22/22 [==============================] - 0s 4ms/step - loss: 20304.3281 - val_loss: 17423.3887\n",
            "Epoch 10/10\n",
            "22/22 [==============================] - 0s 4ms/step - loss: 16700.4180 - val_loss: 14265.9609\n",
            "Model: \"sequential\"\n",
            "_________________________________________________________________\n",
            " Layer (type)                Output Shape              Param #   \n",
            "=================================================================\n",
            " dense (Dense)               (None, 1)                 14        \n",
            "                                                                 \n",
            "=================================================================\n",
            "Total params: 14 (56.00 Byte)\n",
            "Trainable params: 14 (56.00 Byte)\n",
            "Non-trainable params: 0 (0.00 Byte)\n",
            "_________________________________________________________________\n",
            "[[ 0.3543265 ]\n",
            " [ 0.27339563]\n",
            " [ 0.6230983 ]\n",
            " [ 0.49056715]\n",
            " [-0.02443448]\n",
            " [ 0.4920541 ]\n",
            " [ 0.23873079]\n",
            " [ 0.49933687]\n",
            " [ 0.6660968 ]\n",
            " [-0.13928914]\n",
            " [ 0.7989847 ]\n",
            " [-0.268079  ]\n",
            " [ 0.21482493]]\n",
            "[0.18304162]\n",
            "22/22 [==============================] - 0s 2ms/step - loss: 14983.4883\n"
          ]
        },
        {
          "output_type": "execute_result",
          "data": {
            "text/plain": [
              "14983.48828125"
            ]
          },
          "metadata": {},
          "execution_count": 9
        }
      ],
      "source": [
        "# train linear regression model\n",
        "# you can change the values of batch_size and epochs\n",
        "model.fit(X_train, Y_train, batch_size=16, epochs=10, validation_data=(X_test, Y_test)) # show the structure of network\n",
        "model.summary()\n",
        "\n",
        "# show the coefficients of linear regression print(model.layers[0].get_weights()[0]) print(model.layers[0].get_weights()[1])\n",
        "print(model.layers[0].get_weights()[0])\n",
        "print(model.layers[0].get_weights()[1])\n",
        "# show the error value\n",
        "# use evaluate, etc\n",
        "model.evaluate(X_train, Y_train, batch_size=16)"
      ]
    },
    {
      "cell_type": "code",
      "execution_count": null,
      "id": "b76718b6",
      "metadata": {
        "id": "b76718b6",
        "colab": {
          "base_uri": "https://localhost:8080/",
          "height": 1070
        },
        "outputId": "45caba89-775f-4315-db95-b6ea62f07dc8"
      },
      "outputs": [
        {
          "output_type": "stream",
          "name": "stdout",
          "text": [
            "6/6 [==============================] - 0s 3ms/step\n",
            "prediction:  [-101.43687   -95.466934 -136.05527  -113.65956  -120.721504 -103.66337\n",
            "  -94.55867  -100.0139   -124.71111  -108.92111   -88.44274   -92.53453\n",
            "  -21.781942 -111.5236    -95.543274 -124.64959   -64.56953  -110.444016\n",
            "  -89.72506  -120.66191   -99.97982   -95.45845   -81.98572   -94.98523\n",
            " -102.47368  -110.3033   -119.31342   -16.576017  -88.59181  -111.045044\n",
            "  -99.97157  -103.09562  -118.1339   -121.1332   -105.07647   -67.631\n",
            "  -97.408905  -96.0564    -93.61414  -109.79885  -109.221855  -84.02963\n",
            "  -78.9241   -111.67479  -102.50239  -121.86265   -82.52964  -111.59144\n",
            " -125.9514   -106.294334  -97.00386   -96.357216  -93.1195   -110.52791\n",
            " -101.03833  -132.31104  -121.76798   -84.073204 -101.981804  -92.99864\n",
            "  -94.57367   -80.27298  -110.47553   -79.43528  -103.367325  -86.64564\n",
            " -119.8794   -102.71851   -89.94163   -21.05487  -101.627014 -128.0152\n",
            "  -77.14078   -89.75798  -114.49999  -108.13651  -104.79824   -79.09553\n",
            " -117.80604  -122.868195 -113.36514   -98.385826  -97.67809  -119.45954\n",
            "  -96.30898   -92.67156   -86.30631  -106.09386   -96.32149  -102.25401\n",
            " -109.15642   -43.720966 -103.23246  -104.71431  -117.598816 -100.60603\n",
            " -114.51818   -15.937217  -21.127226  -21.141848 -102.093575 -113.6963\n",
            " -105.32109  -103.48708   -98.22911   -18.040216  -98.89636  -111.21589\n",
            "  -98.7968    -93.47268   -12.780377  -59.935352  -95.73219   -94.13524\n",
            "  -93.52625   -41.14134   -88.2768    -70.13415  -115.78861  -102.70068\n",
            "  -88.31484  -111.13183     4.582993 -114.98747  -105.68397  -103.59534\n",
            "  -95.67551   -86.6661    -23.701914  -88.55508   -57.304974 -130.69556\n",
            "  -86.84329  -111.15318   -91.77917   -48.46735   -98.39447   -79.2231\n",
            "  -94.57469   -92.44451   -93.74915   -99.800896  -97.87942   -88.82752\n",
            "  -93.009285  -83.980484  -83.70748  -117.63866   -90.44545   -95.16845\n",
            "  -45.286255 -119.068634  -96.773674 -116.63972  -102.41123  -107.834694\n",
            " -117.31353  -120.913414 -100.1973    -96.01495   -88.79837   -89.09205\n",
            " -113.18686  -102.708694  -98.90558   -90.837814  -90.082466]\n",
            "Y_test:  173    23.6\n",
            "274    32.4\n",
            "491    13.6\n",
            "72     22.8\n",
            "452    16.1\n",
            "       ... \n",
            "110    21.7\n",
            "321    23.1\n",
            "265    22.8\n",
            "29     21.0\n",
            "262    48.8\n",
            "Name: medv, Length: 167, dtype: float64\n"
          ]
        },
        {
          "output_type": "display_data",
          "data": {
            "text/plain": [
              "<Figure size 640x480 with 1 Axes>"
            ],
            "image/png": "[encoded data removed]"
          },
          "metadata": {}
        },
        {
          "output_type": "stream",
          "name": "stdout",
          "text": [
            "1/1 [==============================] - 0s 33ms/step\n",
            "\n",
            "Output: [[-101.43687]]\n"
          ]
        }
      ],
      "source": [
        "Y_predictions = model.predict(X_test)\n",
        "print('prediction: ', Y_predictions.flatten())\n",
        "print('Y_test: ', Y_test)\n",
        "\n",
        "# show the replationalship between label and predictions\n",
        "plt.scatter(Y_test, Y_predictions)\n",
        "plt.xlabel('True Values')\n",
        "plt.ylabel('Predictions')\n",
        "plt.show()\n",
        "\n",
        "# Using a certain input data, compute the linear regression output\n",
        "# use predict\n",
        "input_data = np.array([X_test.iloc[0]])\n",
        "output = model.predict(input_data)\n",
        "print(\"\\nOutput:\", output)"
      ]
    }
  ],
  "metadata": {
    "kernelspec": {
      "display_name": "Python 3",
      "language": "python",
      "name": "python3"
    },
    "language_info": {
      "codemirror_mode": {
        "name": "ipython",
        "version": 3
      },
      "file_extension": ".py",
      "mimetype": "text/x-python",
      "name": "python",
      "nbconvert_exporter": "python",
      "pygments_lexer": "ipython3",
      "version": "3.10.6"
    },
    "colab": {
      "provenance": [],
      "include_colab_link": true
    }
  },
  "nbformat": 4,
  "nbformat_minor": 5
}